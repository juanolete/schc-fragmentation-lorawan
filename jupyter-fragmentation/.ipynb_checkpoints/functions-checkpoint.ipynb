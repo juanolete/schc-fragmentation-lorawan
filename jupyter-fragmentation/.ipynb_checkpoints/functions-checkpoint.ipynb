{
 "cells": [
  {
   "cell_type": "code",
   "execution_count": 3,
   "metadata": {
    "collapsed": true
   },
   "outputs": [],
   "source": [
    "import random\n",
    "import bitstring\n",
    "from bitstring import Bits"
   ]
  },
  {
   "cell_type": "markdown",
   "metadata": {},
   "source": [
    "# Packet Gen"
   ]
  },
  {
   "cell_type": "code",
   "execution_count": 4,
   "metadata": {
    "collapsed": true
   },
   "outputs": [],
   "source": [
    "def packet_gen(largoBytes, semilla = 10):\n",
    "    packet = bytearray(largoBytes)\n",
    "    for i in range(0, largoBytes):\n",
    "        packet[i] = random.getrandbits(8)\n",
    "    packet = Bits(packet)\n",
    "    return(packet)"
   ]
  },
  {
   "cell_type": "markdown",
   "metadata": {},
   "source": [
    "# Tiles Gen + padding"
   ]
  },
  {
   "cell_type": "code",
   "execution_count": 5,
   "metadata": {
    "collapsed": true
   },
   "outputs": [],
   "source": [
    "def get_tiles(bitsPacket, tileLengthBits):\n",
    "    tiles = []\n",
    "    #verificar si el tamaño de packet es multiplo del tamaño de tile\n",
    "    if bitsPacket.length%tileLengthBits > 0:\n",
    "        #no es multiplo -> agregar padding\n",
    "        padding = tileLengthBits - bitsPacket.length%tileLengthBits\n",
    "        bitsPacketPadding = bitsPacket + Bits(padding)\n",
    "    initIndex = 0\n",
    "    finalIndex = tileLengthBits\n",
    "    paddedPacketLength = bitsPacketPadding.length\n",
    "    while finalIndex <= paddedPacketLength:\n",
    "        tile = bitsPacketPadding[initIndex:finalIndex]\n",
    "        tiles.append(tile)\n",
    "        initIndex += tileLengthBits\n",
    "        finalIndex += tileLengthBits\n",
    "    return tiles, padding"
   ]
  },
  {
   "cell_type": "code",
   "execution_count": 22,
   "metadata": {
    "collapsed": true
   },
   "outputs": [],
   "source": [
    "def packet_padding(packet, bitsMultiple):\n",
    "    newPacket = Bits(packet)\n",
    "    if newPacket.length%bitsMultiple > 0:\n",
    "        #no es multiplo de 1 byte\n",
    "        padding = bitsMultiple - newPacket.length%bitsMultiple\n",
    "        newPacket = newPacket + Bits(padding)\n",
    "    return newPacket, padding"
   ]
  },
  {
   "cell_type": "code",
   "execution_count": 25,
   "metadata": {},
   "outputs": [
    {
     "name": "stdout",
     "output_type": "stream",
     "text": [
      "0b001111\n",
      "0b001111\n"
     ]
    }
   ],
   "source": [
    "p = Bits(uint=15, length = 6)\n",
    "np, padding = packet_padding(p,16)\n",
    "print(p)\n",
    "print(p+None)\n",
    "\n"
   ]
  },
  {
   "cell_type": "markdown",
   "metadata": {},
   "source": [
    "# Headers gen\n"
   ]
  },
  {
   "cell_type": "code",
   "execution_count": 6,
   "metadata": {
    "collapsed": true
   },
   "outputs": [],
   "source": [
    "def get_regular_header(ruleId, dTag, W, FCN):\n",
    "    #RuleId field\n",
    "    rId = Bits(uint=ruleId[\"ID\"], length=8) \n",
    "    #DTag field\n",
    "    if ruleId[\"PROFILE\"][\"DTAG_SIZE\"] == 0:\n",
    "        dT = None\n",
    "    else:\n",
    "        dT = Bits(uint=dTag, length=ruleId[\"PROFILE\"][\"DTAG_SIZE\"])\n",
    "    #W field\n",
    "    w   = Bits(uint=W, length=8)[len(w)-ruleId[\"PROFILE\"][\"W_SIZE\"]:len(w)] #toma los M bits menos significativos\n",
    "    #FCN field\n",
    "    fcn = Bits(uint=FCN, length=ruleId[\"PROFILE\"][\"FCN_SIZE\"])\n",
    "    header = rId + dT + w + fcn\n",
    "    return header, rId, dT, w, fcn\n",
    "\n",
    "def get_all1_header(ruleId, packet, dTag, W):\n",
    "    rId = Bits(uint=ruleId[\"ID\"], length=8) \n",
    "    dT  = Bits(uint=dTag        , length=ruleId[\"PROFILE\"][\"DTAG_SIZE\"])\n",
    "    w   = Bits(uint=W           , length=8)[len(w)-ruleId[\"PROFILE\"][\"W_SIZE\"]:len(w)]\n",
    "    fcn = ~Bits(length=ruleId[\"PROFILE\"][\"FCN_SIZE\"])"
   ]
  },
  {
   "cell_type": "markdown",
   "metadata": {},
   "source": [
    "# CRC32 implementation"
   ]
  },
  {
   "cell_type": "code",
   "execution_count": 7,
   "metadata": {
    "collapsed": true
   },
   "outputs": [],
   "source": [
    "class CRC32(object):\n",
    "    '''\n",
    "    Class who carry the crc32 algorithm implementation\n",
    "    '''\n",
    "    def __init__(self):\n",
    "        self.table = create_table()\n",
    "    \n",
    "    def create_table(self):\n",
    "        table = []\n",
    "        for i in range(256):\n",
    "            k = i\n",
    "            for j in range(8):\n",
    "                if k & 1:\n",
    "                    k ^= 0x1db710640\n",
    "                k >>= 1\n",
    "            table.append(k)\n",
    "        return table\n",
    "        \n",
    "    def calc(self, buf, crc=0):\n",
    "        crc ^= 0xffffffff\n",
    "        for k in buf:\n",
    "            crc = (crc >> 8) ^ self.table[(crc & 0xff) ^ k]\n",
    "        return crc ^ 0xffffffff"
   ]
  },
  {
   "cell_type": "code",
   "execution_count": 8,
   "metadata": {
    "collapsed": true
   },
   "outputs": [],
   "source": [
    "paquete = packet_gen(largoBytes=24)\n",
    "tiles, padding = get_tiles(paquete, 7)"
   ]
  },
  {
   "cell_type": "markdown",
   "metadata": {},
   "source": [
    "# Rules and Profiles Structure"
   ]
  },
  {
   "cell_type": "code",
   "execution_count": 9,
   "metadata": {
    "collapsed": true
   },
   "outputs": [],
   "source": [
    "ruleIdElements = [\n",
    "    \"ID\", #number\n",
    "    \"FRAGMENTATION\", #Si es un tipo fragmentado\n",
    "    \"MODE\", #modo de fragmentacion\n",
    "    \"PROFILE\" #profile a ocupar\n",
    "]\n",
    "\n",
    "profileElements = [\n",
    "    \"FCN_SIZE\", #[size en bits]\n",
    "    \"DTAG_SIZE\", #[size en bits]\n",
    "    \"W_SIZE\", #[size en bits]\n",
    "    \"MIC\", #[size, algorithm]\n",
    "    \"WINDOW_SIZE\", #[value]\n",
    "    \"MAX_ACK_REQUESTS\", #[value]\n",
    "    \"RETRANSMISSION_TIMER\", #[value_seconds]\n",
    "    \"INACTIVITY_TIMER\" #[value_seconds]\n",
    "]"
   ]
  },
  {
   "cell_type": "markdown",
   "metadata": {},
   "source": [
    "# Some rules definition"
   ]
  },
  {
   "cell_type": "code",
   "execution_count": 10,
   "metadata": {
    "collapsed": true
   },
   "outputs": [],
   "source": [
    "profile1 = {\n",
    "    \"RULEID_SIZE\": 8,\n",
    "    \"DTAG_SIZE\": 8, \n",
    "    \"W_SIZE\": 1, \n",
    "    \"FCN_SIZE\": 8,\n",
    "    \"MIC\": [32, \"CRC32\"], \n",
    "    \"WINDOW_SIZE\": 5,\n",
    "    \"MAX_ACK_REQUESTS\": 10,\n",
    "    \"RETRANSMISSION_TIMER\": 10, \n",
    "    \"INACTIVITY_TIMER\": 10 \n",
    "}\n",
    "\n",
    "rule1 = {\n",
    "    \"ID\": 1,\n",
    "    \"FRAGMENTATION\": True,\n",
    "    \"MODE\": \"always-ack\",\n",
    "    \"PROFILE\": profile1\n",
    "}\n",
    "\n",
    "rule2 = {\n",
    "    \"ID\": 2,\n",
    "    \"FRAGMENTATION\": True,\n",
    "    \"MODE\": \"always-ack\",\n",
    "    \"PROFILE\": profile1\n",
    "}\n",
    "\n",
    "rule3 = {\n",
    "    \"ID\": 2,\n",
    "    \"FRAGMENTATION\": True,\n",
    "    \"MODE\": \"always-ack\",\n",
    "    \"PROFILE\": profile1\n",
    "}\n",
    "\n",
    "rules = {\n",
    "    rule1[\"ID\"]: rule1,\n",
    "    rule2[\"ID\"]: rule2,\n",
    "    rule3[\"ID\"]: rule3\n",
    "}"
   ]
  },
  {
   "cell_type": "code",
   "execution_count": 11,
   "metadata": {
    "collapsed": true
   },
   "outputs": [],
   "source": [
    "def send_ack_always(packet, rule, dTag, fragment_size_bytes = 100):\n",
    "    #asegurarse que el paquete sea de tipo Bits\n",
    "    packet = Bits(packet)\n",
    "    #Tamaño de header en Bits\n",
    "    reg_hdr_size_bits = rule[\"PROFILE\"][\"RULEID_SIZE\"]+rule[\"PROFILE\"][\"DTAG_SIZE\"]+rule[\"PROFILE\"][\"W_SIZE\"]+rule[\"PROFILE\"][\"FCN_SIZE\"]\n",
    "    tiles_size_bits = fragment_size_bytes*8 - reg_hdr_size_bits #se calcula tamaño de cada tile\n",
    "    max_windows_number = math.ceil(packet.length/tiles_size) #se calcula el numero total de ventanas a transmitir\n",
    "    \n",
    "    "
   ]
  },
  {
   "cell_type": "code",
   "execution_count": 131,
   "metadata": {},
   "outputs": [
    {
     "data": {
      "text/plain": [
       "Bits('0x1ce0fee655ddf567d7996d426fc8ebc6c22850da66dc9c2c')"
      ]
     },
     "execution_count": 131,
     "metadata": {},
     "output_type": "execute_result"
    }
   ],
   "source": [
    "bits(paquete)"
   ]
  },
  {
   "cell_type": "code",
   "execution_count": 32,
   "metadata": {
    "collapsed": true
   },
   "outputs": [],
   "source": [
    "def get_window(tiles, windowSize, windowNumber):\n",
    "    window = []\n",
    "    tilesNumber = len(tiles)\n",
    "    index = windowNumber*windowSize\n",
    "    while(index < tilesNumber):\n",
    "        window.append(tiles[index])\n",
    "        index = index+1\n",
    "    return window"
   ]
  }
 ],
 "metadata": {
  "kernelspec": {
   "display_name": "Python 3",
   "language": "python",
   "name": "python3"
  },
  "language_info": {
   "codemirror_mode": {
    "name": "ipython",
    "version": 3
   },
   "file_extension": ".py",
   "mimetype": "text/x-python",
   "name": "python",
   "nbconvert_exporter": "python",
   "pygments_lexer": "ipython3",
   "version": "3.6.2"
  }
 },
 "nbformat": 4,
 "nbformat_minor": 2
}
