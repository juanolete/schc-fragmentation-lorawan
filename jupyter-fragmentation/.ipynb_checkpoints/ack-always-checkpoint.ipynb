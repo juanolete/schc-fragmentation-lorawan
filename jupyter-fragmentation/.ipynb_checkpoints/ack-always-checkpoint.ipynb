{
 "cells": [
  {
   "cell_type": "code",
   "execution_count": 230,
   "metadata": {},
   "outputs": [],
   "source": [
    "from random import choice, randrange\n",
    "\n",
    "import bitarray \n",
    "#from bitarray import *\n",
    "from bitarray import bitarray as ba\n",
    "\n",
    "import bitstring\n",
    "from bitstring import Bits as bits, BitArray as bar, BitStream as bst, ConstBitStream as conbst\n",
    "\n",
    "import math\n",
    "\n",
    "def ipv6_packet_gen(packetSize, Print = False):\n",
    "    \n",
    "    print(\"########################### IPv6 Packet Generator #############################\")\n",
    "    print(\"\\n\")\n",
    "    mps = maxPacketSize = packetSize   #bytes\n",
    "    hs  = headerSize    = 40           #bytes\n",
    "    pds = payloadSize   = mps - hs     #bytes\n",
    "    \n",
    "    # Constants and fixed values\n",
    "    #known:     v - tc - fl\n",
    "    #fromset:   nh\n",
    "    #unknown:   pl - hl - sa - da\n",
    "    \n",
    "    v   = version            = bits(ba('0110'))          # 4   bits, value = 6\n",
    "    tc  = trafficClass       = bits(uint=0, length=8)    # 8   bits, value = 0\n",
    "    fl  = flowLabel          = bits(uint=0, length=20)   # 20  bits, value = 0\n",
    "    pl  = payloadLength      = bits(uint=pds, length=16) # 16  bits, value = payload size in bytes\n",
    "    nh  = nextHeader         = bits(uint=17, length=8)   # 8   bits, value = 17 = udp\n",
    "    hl  = hopLimit           = bits(uint=randrange(20,255), length=8)    # 8   bits, value = random\n",
    "    sa  = sourceAddress      = bits(ba(128))             # 128 bits, value = random\n",
    "    da  = destinationAddress = bits(ba(128))        # 128 bits, value = random\n",
    "    pd  = payload            = bits(ba(pds * 8))         # bits, value = random\n",
    "    \n",
    "    \n",
    "    print(\"Version:         \", v, \"; Size:\", v.length, \"bits\")\n",
    "    print(\"Traffic Class:   \", tc, \"; Size:\", tc.length, \"bits\")\n",
    "    print(\"Flow Label:      \", fl, \"; Size:\", fl.length, \"bits\")\n",
    "    print(\"Payload Length:  \", pl,\"; Value:\",pl.int ,\"; Size:\", pl.length, \"bits\")\n",
    "    print(\"Next Header:     \", nh, \"; Size:\", nh.length, \"bits\")\n",
    "    print(\"Hop Limit:       \", hl, \"; Size:\", hl.length, \"bits\")\n",
    "    print(\"Source Addr:     \", sa, \"; Size:\", sa.length, \"bits\")\n",
    "    print(\"Destination Addr:\", da, \"; Size:\", da.length, \"bits\")\n",
    "    print(\"Payload: {\")\n",
    "    print(\"    Size: \", pd.length, \"bits\")\n",
    "    print(\"    Value:\", pd)\n",
    "    print(\"}\")\n",
    "    \n",
    "    hfds = headerFields = [v, tc, fl, pl, nh, hl, sa, da]\n",
    "    hdr  = header       = v + tc + fl + pl + nh + hl + sa + da\n",
    "    pfds = packetFields = [v, tc, fl, pl, nh, hl, sa, da, pd]\n",
    "    ip6  = ipv6Packet   = bits(v + tc + fl + pl + nh + hl + sa + da + pd)\n",
    "    bs   = bitSize      = ip6.length\n",
    "    print(\"\\n\")\n",
    "    print(\"IPv6 Packet:\")\n",
    "    print(ip6)\n",
    "\n",
    "    # Visual format\n",
    "    if (Print):\n",
    "        print(\"\\nHex Format\")\n",
    "        k = 64\n",
    "        lines = [None]*bs\n",
    "        linesNumber = math.ceil(bs/k)\n",
    "\n",
    "        hexlines = [None]*linesNumber\n",
    "        binlines = [None]*linesNumber\n",
    "        for i in range (0, linesNumber):\n",
    "            hexlines[i] = ip6[(i)*k:(i+1)*k].hex\n",
    "            binlines[i] = ip6[(i)*k:(i+1)*k].bin\n",
    "\n",
    "        for i in range (0, linesNumber):\n",
    "            print (hexlines[i])\n",
    "    \n",
    "        print (\"\\nBinary Format\")\n",
    "\n",
    "        for i in range (0, linesNumber):\n",
    "            print (binlines[i])\n",
    "    print(\"\\n###############################################################################\")\n",
    "    \n",
    "    return ipv6Packet\n",
    "    "
   ]
  },
  {
   "cell_type": "code",
   "execution_count": 231,
   "metadata": {},
   "outputs": [
    {
     "name": "stdout",
     "output_type": "stream",
     "text": [
      "########################### IPv6 Packet Generator #############################\n",
      "\n",
      "\n",
      "Version:          0x6 ; Size: 4 bits\n",
      "Traffic Class:    0x00 ; Size: 8 bits\n",
      "Flow Label:       0x00000 ; Size: 20 bits\n",
      "Payload Length:   0x003c ; Value: 60 ; Size: 16 bits\n",
      "Next Header:      0x11 ; Size: 8 bits\n",
      "Hop Limit:        0x35 ; Size: 8 bits\n",
      "Source Addr:      0x405bce0a9101000000ff170c91010000 ; Size: 128 bits\n",
      "Destination Addr: 0x405bce0a9101000000ff170c91010000 ; Size: 128 bits\n",
      "Payload: {\n",
      "    Size:  480 bits\n",
      "    Value: 0xb0e9120c91010000f04e745f000000000800000000000000ffffffffffffffffe414745f000000000000000000000000303030303030303000000000\n",
      "}\n",
      "\n",
      "\n",
      "IPv6 Packet:\n",
      "0x60000000003c1135405bce0a9101000000ff170c91010000405bce0a9101000000ff170c91010000b0e9120c91010000f04e745f000000000800000000000000ffffffffffffffffe414745f000000000000000000000000303030303030303000000000\n",
      "\n",
      "###############################################################################\n"
     ]
    }
   ],
   "source": [
    "packet = ipv6_packet_gen(100) \n",
    "\n",
    "rid = ruleId = bits(uint=1,)    \n"
   ]
  },
  {
   "cell_type": "code",
   "execution_count": 235,
   "metadata": {},
   "outputs": [
    {
     "data": {
      "text/plain": [
       "Bits('0x60')"
      ]
     },
     "execution_count": 235,
     "metadata": {},
     "output_type": "execute_result"
    }
   ],
   "source": []
  },
  {
   "cell_type": "code",
   "execution_count": null,
   "metadata": {
    "collapsed": true
   },
   "outputs": [],
   "source": []
  },
  {
   "cell_type": "code",
   "execution_count": null,
   "metadata": {
    "collapsed": true
   },
   "outputs": [],
   "source": []
  }
 ],
 "metadata": {
  "kernelspec": {
   "display_name": "Python 3",
   "language": "python",
   "name": "python3"
  },
  "language_info": {
   "codemirror_mode": {
    "name": "ipython",
    "version": 3
   },
   "file_extension": ".py",
   "mimetype": "text/x-python",
   "name": "python",
   "nbconvert_exporter": "python",
   "pygments_lexer": "ipython3",
   "version": "3.6.2"
  }
 },
 "nbformat": 4,
 "nbformat_minor": 2
}
