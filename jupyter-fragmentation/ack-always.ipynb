{
 "cells": [
  {
   "cell_type": "code",
   "execution_count": 230,
   "metadata": {
    "collapsed": true
   },
   "outputs": [],
   "source": [
    "from random import choice, randrange\n",
    "\n",
    "import bitarray \n",
    "#from bitarray import *\n",
    "from bitarray import bitarray as ba\n",
    "\n",
    "import bitstring\n",
    "from bitstring import Bits as bits, BitArray as bar, BitStream as bst, ConstBitStream as conbst\n",
    "\n",
    "import math\n",
    "\n",
    "def ipv6_packet_gen(packetSize, Print = False):\n",
    "    \n",
    "    print(\"########################### IPv6 Packet Generator #############################\")\n",
    "    print(\"\\n\")\n",
    "    mps = maxPacketSize = packetSize   #bytes\n",
    "    hs  = headerSize    = 40           #bytes\n",
    "    pds = payloadSize   = mps - hs     #bytes\n",
    "    \n",
    "    # Constants and fixed values\n",
    "    #known:     v - tc - fl\n",
    "    #fromset:   nh\n",
    "    #unknown:   pl - hl - sa - da\n",
    "    \n",
    "    v   = version            = bits(ba('0110'))          # 4   bits, value = 6\n",
    "    tc  = trafficClass       = bits(uint=0, length=8)    # 8   bits, value = 0\n",
    "    fl  = flowLabel          = bits(uint=0, length=20)   # 20  bits, value = 0\n",
    "    pl  = payloadLength      = bits(uint=pds, length=16) # 16  bits, value = payload size in bytes\n",
    "    nh  = nextHeader         = bits(uint=17, length=8)   # 8   bits, value = 17 = udp\n",
    "    hl  = hopLimit           = bits(uint=randrange(20,255), length=8)    # 8   bits, value = random\n",
    "    sa  = sourceAddress      = bits(ba(128))             # 128 bits, value = random\n",
    "    da  = destinationAddress = bits(ba(128))        # 128 bits, value = random\n",
    "    pd  = payload            = bits(ba(pds * 8))         # bits, value = random\n",
    "    \n",
    "    \n",
    "    print(\"Version:         \", v, \"; Size:\", v.length, \"bits\")\n",
    "    print(\"Traffic Class:   \", tc, \"; Size:\", tc.length, \"bits\")\n",
    "    print(\"Flow Label:      \", fl, \"; Size:\", fl.length, \"bits\")\n",
    "    print(\"Payload Length:  \", pl,\"; Value:\",pl.int ,\"; Size:\", pl.length, \"bits\")\n",
    "    print(\"Next Header:     \", nh, \"; Size:\", nh.length, \"bits\")\n",
    "    print(\"Hop Limit:       \", hl, \"; Size:\", hl.length, \"bits\")\n",
    "    print(\"Source Addr:     \", sa, \"; Size:\", sa.length, \"bits\")\n",
    "    print(\"Destination Addr:\", da, \"; Size:\", da.length, \"bits\")\n",
    "    print(\"Payload: {\")\n",
    "    print(\"    Size: \", pd.length, \"bits\")\n",
    "    print(\"    Value:\", pd)\n",
    "    print(\"}\")\n",
    "    \n",
    "    hfds = headerFields = [v, tc, fl, pl, nh, hl, sa, da]\n",
    "    hdr  = header       = v + tc + fl + pl + nh + hl + sa + da\n",
    "    pfds = packetFields = [v, tc, fl, pl, nh, hl, sa, da, pd]\n",
    "    ip6  = ipv6Packet   = bits(v + tc + fl + pl + nh + hl + sa + da + pd)\n",
    "    bs   = bitSize      = ip6.length\n",
    "    print(\"\\n\")\n",
    "    print(\"IPv6 Packet:\")\n",
    "    print(ip6)\n",
    "\n",
    "    # Visual format\n",
    "    if (Print):\n",
    "        print(\"\\nHex Format\")\n",
    "        k = 64\n",
    "        lines = [None]*bs\n",
    "        linesNumber = math.ceil(bs/k)\n",
    "\n",
    "        hexlines = [None]*linesNumber\n",
    "        binlines = [None]*linesNumber\n",
    "        for i in range (0, linesNumber):\n",
    "            hexlines[i] = ip6[(i)*k:(i+1)*k].hex\n",
    "            binlines[i] = ip6[(i)*k:(i+1)*k].bin\n",
    "\n",
    "        for i in range (0, linesNumber):\n",
    "            print (hexlines[i])\n",
    "    \n",
    "        print (\"\\nBinary Format\")\n",
    "\n",
    "        for i in range (0, linesNumber):\n",
    "            print (binlines[i])\n",
    "    print(\"\\n###############################################################################\")\n",
    "    \n",
    "    return ipv6Packet\n",
    "    "
   ]
  },
  {
   "cell_type": "code",
   "execution_count": 231,
   "metadata": {},
   "outputs": [
    {
     "name": "stdout",
     "output_type": "stream",
     "text": [
      "########################### IPv6 Packet Generator #############################\n",
      "\n",
      "\n",
      "Version:          0x6 ; Size: 4 bits\n",
      "Traffic Class:    0x00 ; Size: 8 bits\n",
      "Flow Label:       0x00000 ; Size: 20 bits\n",
      "Payload Length:   0x003c ; Value: 60 ; Size: 16 bits\n",
      "Next Header:      0x11 ; Size: 8 bits\n",
      "Hop Limit:        0x35 ; Size: 8 bits\n",
      "Source Addr:      0x405bce0a9101000000ff170c91010000 ; Size: 128 bits\n",
      "Destination Addr: 0x405bce0a9101000000ff170c91010000 ; Size: 128 bits\n",
      "Payload: {\n",
      "    Size:  480 bits\n",
      "    Value: 0xb0e9120c91010000f04e745f000000000800000000000000ffffffffffffffffe414745f000000000000000000000000303030303030303000000000\n",
      "}\n",
      "\n",
      "\n",
      "IPv6 Packet:\n",
      "0x60000000003c1135405bce0a9101000000ff170c91010000405bce0a9101000000ff170c91010000b0e9120c91010000f04e745f000000000800000000000000ffffffffffffffffe414745f000000000000000000000000303030303030303000000000\n",
      "\n",
      "###############################################################################\n"
     ]
    }
   ],
   "source": [
    "packet = ipv6_packet_gen(100) \n",
    "\n",
    "rid = ruleId = bits(uint=1,) \n",
    "dt  = dTag   = bits \n"
   ]
  },
  {
   "cell_type": "code",
   "execution_count": 2,
   "metadata": {},
   "outputs": [
    {
     "data": {
      "text/plain": [
       "b'\\x00\\x00'"
      ]
     },
     "execution_count": 2,
     "metadata": {},
     "output_type": "execute_result"
    }
   ],
   "source": [
    "bytes(2)"
   ]
  },
  {
   "cell_type": "code",
   "execution_count": 5,
   "metadata": {},
   "outputs": [
    {
     "data": {
      "text/plain": [
       "bytearray(b'\\x00\\x00')"
      ]
     },
     "execution_count": 5,
     "metadata": {},
     "output_type": "execute_result"
    }
   ],
   "source": [
    "bytearray(2)"
   ]
  },
  {
   "cell_type": "code",
   "execution_count": 6,
   "metadata": {
    "collapsed": true
   },
   "outputs": [],
   "source": [
    "x = b'2'"
   ]
  },
  {
   "cell_type": "code",
   "execution_count": 7,
   "metadata": {},
   "outputs": [
    {
     "data": {
      "text/plain": [
       "b'2'"
      ]
     },
     "execution_count": 7,
     "metadata": {},
     "output_type": "execute_result"
    }
   ],
   "source": [
    "x"
   ]
  },
  {
   "cell_type": "code",
   "execution_count": 8,
   "metadata": {},
   "outputs": [
    {
     "data": {
      "text/plain": [
       "b'2'"
      ]
     },
     "execution_count": 8,
     "metadata": {},
     "output_type": "execute_result"
    }
   ],
   "source": [
    "bytes(x)"
   ]
  },
  {
   "cell_type": "code",
   "execution_count": 13,
   "metadata": {
    "collapsed": true
   },
   "outputs": [],
   "source": [
    "msg = bytes(1)\n",
    "x = 255"
   ]
  },
  {
   "cell_type": "code",
   "execution_count": 14,
   "metadata": {},
   "outputs": [
    {
     "data": {
      "text/plain": [
       "255"
      ]
     },
     "execution_count": 14,
     "metadata": {},
     "output_type": "execute_result"
    }
   ],
   "source": [
    "x"
   ]
  },
  {
   "cell_type": "code",
   "execution_count": 1,
   "metadata": {},
   "outputs": [
    {
     "data": {
      "text/plain": [
       "bytearray(b'\\x00\\x00\\x00\\x00\\x00\\x00\\x00\\x00\\x00\\x00\\x00\\x00\\x00\\x00\\x00\\x00\\x00\\x00\\x00\\x00\\x00\\x00\\x00\\x00\\x00\\x00\\x00\\x00\\x00\\x00\\x00\\x00\\x00\\x00\\x00\\x00\\x00\\x00\\x00\\x00\\x00\\x00\\x00\\x00\\x00\\x00\\x00\\x00\\x00\\x00\\x00\\x00\\x00\\x00\\x00\\x00\\x00\\x00\\x00\\x00\\x00\\x00\\x00\\x00\\x00\\x00\\x00\\x00\\x00\\x00\\x00\\x00\\x00\\x00\\x00\\x00\\x00\\x00\\x00\\x00\\x00\\x00\\x00\\x00\\x00\\x00\\x00\\x00\\x00\\x00\\x00\\x00\\x00\\x00\\x00\\x00\\x00\\x00\\x00\\x00')"
      ]
     },
     "execution_count": 1,
     "metadata": {},
     "output_type": "execute_result"
    }
   ],
   "source": [
    "bytearray(100)"
   ]
  },
  {
   "cell_type": "code",
   "execution_count": 61,
   "metadata": {
    "collapsed": true
   },
   "outputs": [],
   "source": [
    "import random\n",
    "\n",
    "def packet_gen(largo, Print = False, semilla = 10):\n",
    "    random.seed(semilla)\n",
    "    packet = bytearray(largo)\n",
    "    for i in range(0, largo):\n",
    "        packet[i] = random.getrandbits(8)\n",
    "        print (packet[i])\n",
    "    if Print:\n",
    "        print(packet)\n",
    "    return(packet)"
   ]
  },
  {
   "cell_type": "code",
   "execution_count": 67,
   "metadata": {},
   "outputs": [
    {
     "name": "stdout",
     "output_type": "stream",
     "text": [
      "69\n",
      "133\n"
     ]
    }
   ],
   "source": [
    "packet = packet_gen(2)"
   ]
  },
  {
   "cell_type": "code",
   "execution_count": 68,
   "metadata": {},
   "outputs": [
    {
     "data": {
      "text/plain": [
       "bytearray(b'E\\x85')"
      ]
     },
     "execution_count": 68,
     "metadata": {},
     "output_type": "execute_result"
    }
   ],
   "source": [
    "packet\n"
   ]
  },
  {
   "cell_type": "code",
   "execution_count": 75,
   "metadata": {},
   "outputs": [
    {
     "data": {
      "text/plain": [
       "2"
      ]
     },
     "execution_count": 75,
     "metadata": {},
     "output_type": "execute_result"
    }
   ],
   "source": [
    "len(packet)"
   ]
  },
  {
   "cell_type": "code",
   "execution_count": 1,
   "metadata": {
    "collapsed": true
   },
   "outputs": [],
   "source": [
    "import bitstring\n",
    "from bitstring import Bits as bits, BitArray as bar, BitStream as bst, ConstBitStream as conbst\n",
    "\n"
   ]
  },
  {
   "cell_type": "code",
   "execution_count": 7,
   "metadata": {},
   "outputs": [
    {
     "ename": "CreationError",
     "evalue": "The length keyword isn't applicable to this initialiser.",
     "output_type": "error",
     "traceback": [
      "\u001b[1;31m---------------------------------------------------------------------------\u001b[0m",
      "\u001b[1;31mCreationError\u001b[0m                             Traceback (most recent call last)",
      "\u001b[1;32m<ipython-input-7-c08f5ea10439>\u001b[0m in \u001b[0;36m<module>\u001b[1;34m()\u001b[0m\n\u001b[1;32m----> 1\u001b[1;33m \u001b[0mx\u001b[0m \u001b[1;33m=\u001b[0m \u001b[0mbits\u001b[0m\u001b[1;33m(\u001b[0m\u001b[1;36m16\u001b[0m\u001b[1;33m,\u001b[0m\u001b[1;36m1\u001b[0m\u001b[1;33m)\u001b[0m\u001b[1;33m\u001b[0m\u001b[0m\n\u001b[0m\u001b[0;32m      2\u001b[0m \u001b[0mx\u001b[0m\u001b[1;33m\u001b[0m\u001b[0m\n",
      "\u001b[1;32mD:\\Anaconda3\\lib\\site-packages\\bitstring.py\u001b[0m in \u001b[0;36m__new__\u001b[1;34m(cls, auto, length, offset, _cache, **kwargs)\u001b[0m\n\u001b[0;32m    794\u001b[0m             \u001b[1;32mpass\u001b[0m\u001b[1;33m\u001b[0m\u001b[0m\n\u001b[0;32m    795\u001b[0m         \u001b[0mx\u001b[0m \u001b[1;33m=\u001b[0m \u001b[0msuper\u001b[0m\u001b[1;33m(\u001b[0m\u001b[0mBits\u001b[0m\u001b[1;33m,\u001b[0m \u001b[0mcls\u001b[0m\u001b[1;33m)\u001b[0m\u001b[1;33m.\u001b[0m\u001b[0m__new__\u001b[0m\u001b[1;33m(\u001b[0m\u001b[0mcls\u001b[0m\u001b[1;33m)\u001b[0m\u001b[1;33m\u001b[0m\u001b[0m\n\u001b[1;32m--> 796\u001b[1;33m         \u001b[0mx\u001b[0m\u001b[1;33m.\u001b[0m\u001b[0m_initialise\u001b[0m\u001b[1;33m(\u001b[0m\u001b[0mauto\u001b[0m\u001b[1;33m,\u001b[0m \u001b[0mlength\u001b[0m\u001b[1;33m,\u001b[0m \u001b[0moffset\u001b[0m\u001b[1;33m,\u001b[0m \u001b[1;33m**\u001b[0m\u001b[0mkwargs\u001b[0m\u001b[1;33m)\u001b[0m\u001b[1;33m\u001b[0m\u001b[0m\n\u001b[0m\u001b[0;32m    797\u001b[0m         \u001b[1;32mreturn\u001b[0m \u001b[0mx\u001b[0m\u001b[1;33m\u001b[0m\u001b[0m\n\u001b[0;32m    798\u001b[0m \u001b[1;33m\u001b[0m\u001b[0m\n",
      "\u001b[1;32mD:\\Anaconda3\\lib\\site-packages\\bitstring.py\u001b[0m in \u001b[0;36m_initialise\u001b[1;34m(self, auto, length, offset, **kwargs)\u001b[0m\n\u001b[0;32m    803\u001b[0m             \u001b[1;32mraise\u001b[0m \u001b[0mCreationError\u001b[0m\u001b[1;33m(\u001b[0m\u001b[1;34m\"offset must be >= 0.\"\u001b[0m\u001b[1;33m)\u001b[0m\u001b[1;33m\u001b[0m\u001b[0m\n\u001b[0;32m    804\u001b[0m         \u001b[1;32mif\u001b[0m \u001b[0mauto\u001b[0m \u001b[1;32mis\u001b[0m \u001b[1;32mnot\u001b[0m \u001b[1;32mNone\u001b[0m\u001b[1;33m:\u001b[0m\u001b[1;33m\u001b[0m\u001b[0m\n\u001b[1;32m--> 805\u001b[1;33m             \u001b[0mself\u001b[0m\u001b[1;33m.\u001b[0m\u001b[0m_initialise_from_auto\u001b[0m\u001b[1;33m(\u001b[0m\u001b[0mauto\u001b[0m\u001b[1;33m,\u001b[0m \u001b[0mlength\u001b[0m\u001b[1;33m,\u001b[0m \u001b[0moffset\u001b[0m\u001b[1;33m)\u001b[0m\u001b[1;33m\u001b[0m\u001b[0m\n\u001b[0m\u001b[0;32m    806\u001b[0m             \u001b[1;32mreturn\u001b[0m\u001b[1;33m\u001b[0m\u001b[0m\n\u001b[0;32m    807\u001b[0m         \u001b[1;32mif\u001b[0m \u001b[1;32mnot\u001b[0m \u001b[0mkwargs\u001b[0m\u001b[1;33m:\u001b[0m\u001b[1;33m\u001b[0m\u001b[0m\n",
      "\u001b[1;32mD:\\Anaconda3\\lib\\site-packages\\bitstring.py\u001b[0m in \u001b[0;36m_initialise_from_auto\u001b[1;34m(self, auto, length, offset)\u001b[0m\n\u001b[0;32m    834\u001b[0m         \u001b[1;32mif\u001b[0m \u001b[0moffset\u001b[0m \u001b[1;32mis\u001b[0m \u001b[1;32mNone\u001b[0m\u001b[1;33m:\u001b[0m\u001b[1;33m\u001b[0m\u001b[0m\n\u001b[0;32m    835\u001b[0m             \u001b[0moffset\u001b[0m \u001b[1;33m=\u001b[0m \u001b[1;36m0\u001b[0m\u001b[1;33m\u001b[0m\u001b[0m\n\u001b[1;32m--> 836\u001b[1;33m         \u001b[0mself\u001b[0m\u001b[1;33m.\u001b[0m\u001b[0m_setauto\u001b[0m\u001b[1;33m(\u001b[0m\u001b[0mauto\u001b[0m\u001b[1;33m,\u001b[0m \u001b[0mlength\u001b[0m\u001b[1;33m,\u001b[0m \u001b[0moffset\u001b[0m\u001b[1;33m)\u001b[0m\u001b[1;33m\u001b[0m\u001b[0m\n\u001b[0m\u001b[0;32m    837\u001b[0m         \u001b[1;32mreturn\u001b[0m\u001b[1;33m\u001b[0m\u001b[0m\n\u001b[0;32m    838\u001b[0m \u001b[1;33m\u001b[0m\u001b[0m\n",
      "\u001b[1;32mD:\\Anaconda3\\lib\\site-packages\\bitstring.py\u001b[0m in \u001b[0;36m_setauto\u001b[1;34m(self, s, length, offset)\u001b[0m\n\u001b[0;32m   1268\u001b[0m             \u001b[1;32mreturn\u001b[0m\u001b[1;33m\u001b[0m\u001b[0m\n\u001b[0;32m   1269\u001b[0m         \u001b[1;32mif\u001b[0m \u001b[0mlength\u001b[0m \u001b[1;32mis\u001b[0m \u001b[1;32mnot\u001b[0m \u001b[1;32mNone\u001b[0m\u001b[1;33m:\u001b[0m\u001b[1;33m\u001b[0m\u001b[0m\n\u001b[1;32m-> 1270\u001b[1;33m             \u001b[1;32mraise\u001b[0m \u001b[0mCreationError\u001b[0m\u001b[1;33m(\u001b[0m\u001b[1;34m\"The length keyword isn't applicable to this initialiser.\"\u001b[0m\u001b[1;33m)\u001b[0m\u001b[1;33m\u001b[0m\u001b[0m\n\u001b[0m\u001b[0;32m   1271\u001b[0m         \u001b[1;32mif\u001b[0m \u001b[0moffset\u001b[0m\u001b[1;33m:\u001b[0m\u001b[1;33m\u001b[0m\u001b[0m\n\u001b[0;32m   1272\u001b[0m             \u001b[1;32mraise\u001b[0m \u001b[0mCreationError\u001b[0m\u001b[1;33m(\u001b[0m\u001b[1;34m\"The offset keyword isn't applicable to this initialiser.\"\u001b[0m\u001b[1;33m)\u001b[0m\u001b[1;33m\u001b[0m\u001b[0m\n",
      "\u001b[1;31mCreationError\u001b[0m: The length keyword isn't applicable to this initialiser."
     ]
    }
   ],
   "source": [
    "x = bits(16,1)\n",
    "x"
   ]
  },
  {
   "cell_type": "code",
   "execution_count": 3,
   "metadata": {},
   "outputs": [
    {
     "data": {
      "text/plain": [
       "Bits('')"
      ]
     },
     "execution_count": 3,
     "metadata": {},
     "output_type": "execute_result"
    }
   ],
   "source": [
    "x"
   ]
  },
  {
   "cell_type": "code",
   "execution_count": 8,
   "metadata": {
    "collapsed": true
   },
   "outputs": [],
   "source": [
    "import binascii\n",
    "import zlib"
   ]
  },
  {
   "cell_type": "code",
   "execution_count": 21,
   "metadata": {},
   "outputs": [],
   "source": [
    "crc_32_tab = [\n",
    "    0x00000000, 0x77073096, 0xee0e612c, 0x990951ba, 0x076dc419,\n",
    "    0x706af48f, 0xe963a535, 0x9e6495a3, 0x0edb8832, 0x79dcb8a4,\n",
    "    0xe0d5e91e, 0x97d2d988, 0x09b64c2b, 0x7eb17cbd, 0xe7b82d07,\n",
    "    0x90bf1d91, 0x1db71064, 0x6ab020f2, 0xf3b97148, 0x84be41de,\n",
    "    0x1adad47d, 0x6ddde4eb, 0xf4d4b551, 0x83d385c7, 0x136c9856,\n",
    "    0x646ba8c0, 0xfd62f97a, 0x8a65c9ec, 0x14015c4f, 0x63066cd9,\n",
    "    0xfa0f3d63, 0x8d080df5, 0x3b6e20c8, 0x4c69105e, 0xd56041e4,\n",
    "    0xa2677172, 0x3c03e4d1, 0x4b04d447, 0xd20d85fd, 0xa50ab56b,\n",
    "    0x35b5a8fa, 0x42b2986c, 0xdbbbc9d6, 0xacbcf940, 0x32d86ce3,\n",
    "    0x45df5c75, 0xdcd60dcf, 0xabd13d59, 0x26d930ac, 0x51de003a,\n",
    "    0xc8d75180, 0xbfd06116, 0x21b4f4b5, 0x56b3c423, 0xcfba9599,\n",
    "    0xb8bda50f, 0x2802b89e, 0x5f058808, 0xc60cd9b2, 0xb10be924,\n",
    "    0x2f6f7c87, 0x58684c11, 0xc1611dab, 0xb6662d3d, 0x76dc4190,\n",
    "    0x01db7106, 0x98d220bc, 0xefd5102a, 0x71b18589, 0x06b6b51f,\n",
    "    0x9fbfe4a5, 0xe8b8d433, 0x7807c9a2, 0x0f00f934, 0x9609a88e,\n",
    "    0xe10e9818, 0x7f6a0dbb, 0x086d3d2d, 0x91646c97, 0xe6635c01,\n",
    "    0x6b6b51f4, 0x1c6c6162, 0x856530d8, 0xf262004e, 0x6c0695ed,\n",
    "    0x1b01a57b, 0x8208f4c1, 0xf50fc457, 0x65b0d9c6, 0x12b7e950,\n",
    "    0x8bbeb8ea, 0xfcb9887c, 0x62dd1ddf, 0x15da2d49, 0x8cd37cf3,\n",
    "    0xfbd44c65, 0x4db26158, 0x3ab551ce, 0xa3bc0074, 0xd4bb30e2,\n",
    "    0x4adfa541, 0x3dd895d7, 0xa4d1c46d, 0xd3d6f4fb, 0x4369e96a,\n",
    "    0x346ed9fc, 0xad678846, 0xda60b8d0, 0x44042d73, 0x33031de5,\n",
    "    0xaa0a4c5f, 0xdd0d7cc9, 0x5005713c, 0x270241aa, 0xbe0b1010,\n",
    "    0xc90c2086, 0x5768b525, 0x206f85b3, 0xb966d409, 0xce61e49f,\n",
    "    0x5edef90e, 0x29d9c998, 0xb0d09822, 0xc7d7a8b4, 0x59b33d17,\n",
    "    0x2eb40d81, 0xb7bd5c3b, 0xc0ba6cad, 0xedb88320, 0x9abfb3b6,\n",
    "    0x03b6e20c, 0x74b1d29a, 0xead54739, 0x9dd277af, 0x04db2615,\n",
    "    0x73dc1683, 0xe3630b12, 0x94643b84, 0x0d6d6a3e, 0x7a6a5aa8,\n",
    "    0xe40ecf0b, 0x9309ff9d, 0x0a00ae27, 0x7d079eb1, 0xf00f9344,\n",
    "    0x8708a3d2, 0x1e01f268, 0x6906c2fe, 0xf762575d, 0x806567cb,\n",
    "    0x196c3671, 0x6e6b06e7, 0xfed41b76, 0x89d32be0, 0x10da7a5a,\n",
    "    0x67dd4acc, 0xf9b9df6f, 0x8ebeeff9, 0x17b7be43, 0x60b08ed5,\n",
    "    0xd6d6a3e8, 0xa1d1937e, 0x38d8c2c4, 0x4fdff252, 0xd1bb67f1,\n",
    "    0xa6bc5767, 0x3fb506dd, 0x48b2364b, 0xd80d2bda, 0xaf0a1b4c,\n",
    "    0x36034af6, 0x41047a60, 0xdf60efc3, 0xa867df55, 0x316e8eef,\n",
    "    0x4669be79, 0xcb61b38c, 0xbc66831a, 0x256fd2a0, 0x5268e236,\n",
    "    0xcc0c7795, 0xbb0b4703, 0x220216b9, 0x5505262f, 0xc5ba3bbe,\n",
    "    0xb2bd0b28, 0x2bb45a92, 0x5cb36a04, 0xc2d7ffa7, 0xb5d0cf31,\n",
    "    0x2cd99e8b, 0x5bdeae1d, 0x9b64c2b0, 0xec63f226, 0x756aa39c,\n",
    "    0x026d930a, 0x9c0906a9, 0xeb0e363f, 0x72076785, 0x05005713,\n",
    "    0x95bf4a82, 0xe2b87a14, 0x7bb12bae, 0x0cb61b38, 0x92d28e9b,\n",
    "    0xe5d5be0d, 0x7cdcefb7, 0x0bdbdf21, 0x86d3d2d4, 0xf1d4e242,\n",
    "    0x68ddb3f8, 0x1fda836e, 0x81be16cd, 0xf6b9265b, 0x6fb077e1,\n",
    "    0x18b74777, 0x88085ae6, 0xff0f6a70, 0x66063bca, 0x11010b5c,\n",
    "    0x8f659eff, 0xf862ae69, 0x616bffd3, 0x166ccf45, 0xa00ae278,\n",
    "    0xd70dd2ee, 0x4e048354, 0x3903b3c2, 0xa7672661, 0xd06016f7,\n",
    "    0x4969474d, 0x3e6e77db, 0xaed16a4a, 0xd9d65adc, 0x40df0b66,\n",
    "    0x37d83bf0, 0xa9bcae53, 0xdebb9ec5, 0x47b2cf7f, 0x30b5ffe9,\n",
    "    0xbdbdf21c, 0xcabac28a, 0x53b39330, 0x24b4a3a6, 0xbad03605,\n",
    "    0xcdd70693, 0x54de5729, 0x23d967bf, 0xb3667a2e, 0xc4614ab8,\n",
    "    0x5d681b02, 0x2a6f2b94, 0xb40bbe37, 0xc30c8ea1, 0x5a05df1b,\n",
    "    0x2d02ef8d\n",
    "]\n",
    "\n",
    "def crc32(s, crc=0):\n",
    "    result = 0\n",
    "    crc = ~int(crc) & 0xffffffff\n",
    "    for c in s:\n",
    "        crc = crc_32_tab[(crc ^ int(ord(str(c)))) & 0xff] ^ (crc >> 8)\n",
    "        #/* Note:  (crc >> 8) MUST zero fill on left\n",
    "\n",
    "        result = crc ^ 0xffffffff\n",
    "    \n",
    "    if result > 2**31:\n",
    "        result = ((result + 2**31) % 2**32) - 2**31\n",
    "\n",
    "    return result"
   ]
  },
  {
   "cell_type": "code",
   "execution_count": 40,
   "metadata": {
    "collapsed": true
   },
   "outputs": [],
   "source": [
    "\"\"\"Calculate and manipulate CRC32.\n",
    "http://en.wikipedia.org/wiki/Cyclic_redundancy_check\n",
    "-- StalkR\n",
    "\"\"\"\n",
    "import struct\n",
    "import sys\n",
    "\n",
    "# Polynoms in reversed notation\n",
    "POLYNOMS = {\n",
    "  'CRC-32-IEEE': 0xedb88320, # 802.3\n",
    "  'CRC-32C': 0x82F63B78, # Castagnoli\n",
    "  'CRC-32K': 0xEB31D82E, # Koopman\n",
    "  'CRC-32Q': 0xD5828281,\n",
    "}\n",
    "\n",
    "class Error(Exception):\n",
    "  pass\n",
    "\n",
    "class CRC32(object):\n",
    "  \"\"\"A class to calculate and manipulate CRC32.\n",
    "  \n",
    "  Use one instance per type of polynom you want to use.\n",
    "  Use calc() to calculate a crc32.\n",
    "  Use forge() to forge crc32 by adding 4 bytes anywhere.\n",
    "  \"\"\"\n",
    "  def __init__(self, type=\"CRC-32-IEEE\"):\n",
    "    if type not in POLYNOMS:\n",
    "      raise Error(\"Unknown polynom. %s\" % type)\n",
    "    self.polynom = POLYNOMS[type]\n",
    "    self.table, self.reverse = [0]*256, [0]*256\n",
    "    self._build_tables()\n",
    "\n",
    "  def _build_tables(self):\n",
    "    for i in range(256):\n",
    "      fwd = i\n",
    "      rev = i << 24\n",
    "      for j in range(8, 0, -1):\n",
    "        # build normal table\n",
    "        if (fwd & 1) == 1:\n",
    "          fwd = (fwd >> 1) ^ self.polynom\n",
    "        else:\n",
    "          fwd >>= 1\n",
    "        self.table[i] = fwd & 0xffffffff\n",
    "        # build reverse table =)\n",
    "        if rev & 0x80000000 == 0x80000000:\n",
    "          rev = ((rev ^ self.polynom) << 1) | 1\n",
    "        else:\n",
    "          rev <<= 1\n",
    "        rev &= 0xffffffff\n",
    "        self.reverse[i] = rev\n",
    "\n",
    "  def calc(self, s):\n",
    "    \"\"\"Calculate crc32 of a string.\n",
    "    Same crc32 as in (binascii.crc32)&0xffffffff.\n",
    "    \"\"\"\n",
    "    crc = 0xffffffff\n",
    "    for c in s:\n",
    "      crc = (crc >> 8) ^ self.table[(crc ^ ord(str(c))) & 0xff]\n",
    "    return crc^0xffffffff\n",
    "\n",
    "  def forge(self, wanted_crc, s, pos=None):\n",
    "    \"\"\"Forge crc32 of a string by adding 4 bytes at position pos.\"\"\"\n",
    "    if pos is None:\n",
    "      pos = len(s)\n",
    "    \n",
    "    # forward calculation of CRC up to pos, sets current forward CRC state\n",
    "    fwd_crc = 0xffffffff\n",
    "    for c in s[:pos]:\n",
    "      fwd_crc = (fwd_crc >> 8) ^ self.table[(fwd_crc ^ ord(c)) & 0xff]\n",
    "    \n",
    "    # backward calculation of CRC up to pos, sets wanted backward CRC state\n",
    "    bkd_crc = wanted_crc^0xffffffff\n",
    "    for c in s[pos:][::-1]:\n",
    "      bkd_crc = ((bkd_crc << 8)&0xffffffff) ^ self.reverse[bkd_crc >> 24] ^ ord(c)\n",
    "    \n",
    "    # deduce the 4 bytes we need to insert\n",
    "    for c in struct.pack('<L',fwd_crc)[::-1]:\n",
    "      bkd_crc = ((bkd_crc << 8)&0xffffffff) ^ self.reverse[bkd_crc >> 24] ^ ord(c)\n",
    "    \n",
    "    res = s[:pos] + struct.pack('<L', bkd_crc) + s[pos:]\n",
    "    assert(crc32(res) == wanted_crc)\n",
    "    return res\n"
   ]
  },
  {
   "cell_type": "code",
   "execution_count": 41,
   "metadata": {},
   "outputs": [
    {
     "data": {
      "text/plain": [
       "1438416925"
      ]
     },
     "execution_count": 41,
     "metadata": {},
     "output_type": "execute_result"
    }
   ],
   "source": [
    "binascii.crc32(bytes([1,2,3])) % (1<<32)"
   ]
  },
  {
   "cell_type": "code",
   "execution_count": 57,
   "metadata": {},
   "outputs": [
    {
     "data": {
      "text/plain": [
       "'0x55bc801d'"
      ]
     },
     "execution_count": 57,
     "metadata": {},
     "output_type": "execute_result"
    }
   ],
   "source": [
    "hex((zlib.crc32(bytes([1,2,3])) % (1<<32)))"
   ]
  },
  {
   "cell_type": "code",
   "execution_count": 58,
   "metadata": {},
   "outputs": [
    {
     "data": {
      "text/plain": [
       "'0x884863d2'"
      ]
     },
     "execution_count": 58,
     "metadata": {},
     "output_type": "execute_result"
    }
   ],
   "source": [
    "hex(crc32(bytes([1,2,3])) & 0xFFFFFFFF)"
   ]
  },
  {
   "cell_type": "code",
   "execution_count": 56,
   "metadata": {},
   "outputs": [
    {
     "name": "stdout",
     "output_type": "stream",
     "text": [
      "2286445522\n"
     ]
    }
   ],
   "source": [
    "crc = CRC32().calc(bytes([1,2,3]))\n",
    "print(crc % (1<<32))"
   ]
  },
  {
   "cell_type": "code",
   "execution_count": 52,
   "metadata": {},
   "outputs": [
    {
     "data": {
      "text/plain": [
       "1438416925"
      ]
     },
     "execution_count": 52,
     "metadata": {},
     "output_type": "execute_result"
    }
   ],
   "source": [
    "(binascii.crc32(bytes([1,2,3])) & 0xFFFFFFFF)"
   ]
  },
  {
   "cell_type": "code",
   "execution_count": 100,
   "metadata": {},
   "outputs": [
    {
     "name": "stdout",
     "output_type": "stream",
     "text": [
      "0x55bc801d\n"
     ]
    }
   ],
   "source": [
    "class CRC32(object):\n",
    "    def __init__(self):\n",
    "        self.table = create_table()\n",
    "    \n",
    "    def create_table(self):\n",
    "        table = []\n",
    "        for i in range(256):\n",
    "            k = i\n",
    "            for j in range(8):\n",
    "                if k & 1:\n",
    "                    k ^= 0x1db710640\n",
    "                k >>= 1\n",
    "            table.append(k)\n",
    "        return table\n",
    "        \n",
    "    def calc(self, buf, crc=0):\n",
    "        crc ^= 0xffffffff\n",
    "        for k in buf:\n",
    "            crc = (crc >> 8) ^ self.table[(crc & 0xff) ^ k]\n",
    "        return crc ^ 0xffffffff"
   ]
  },
  {
   "cell_type": "code",
   "execution_count": 117,
   "metadata": {},
   "outputs": [
    {
     "name": "stdout",
     "output_type": "stream",
     "text": [
      "0x55bc801d\n",
      "0x55bc801d\n"
     ]
    }
   ],
   "source": [
    "\n"
   ]
  },
  {
   "cell_type": "code",
   "execution_count": 86,
   "metadata": {},
   "outputs": [],
   "source": [
    "a = bits(bin='0b0101')\n",
    "b = bits(bin='0b1')"
   ]
  },
  {
   "cell_type": "code",
   "execution_count": 95,
   "metadata": {},
   "outputs": [
    {
     "data": {
      "text/plain": [
       "276992431"
      ]
     },
     "execution_count": 95,
     "metadata": {},
     "output_type": "execute_result"
    }
   ],
   "source": [
    "crc_update(a+b)"
   ]
  },
  {
   "cell_type": "code",
   "execution_count": 97,
   "metadata": {},
   "outputs": [
    {
     "data": {
      "text/plain": [
       "276992431"
      ]
     },
     "execution_count": 97,
     "metadata": {},
     "output_type": "execute_result"
    }
   ],
   "source": [
    "binascii.crc32(bytes(a+b))"
   ]
  },
  {
   "cell_type": "code",
   "execution_count": 91,
   "metadata": {
    "collapsed": true
   },
   "outputs": [],
   "source": [
    "d = bits(bin='0b01011')"
   ]
  },
  {
   "cell_type": "code",
   "execution_count": 99,
   "metadata": {},
   "outputs": [
    {
     "data": {
      "text/plain": [
       "276992431"
      ]
     },
     "execution_count": 99,
     "metadata": {},
     "output_type": "execute_result"
    }
   ],
   "source": [
    "crc_update(bytes(d))"
   ]
  },
  {
   "cell_type": "code",
   "execution_count": null,
   "metadata": {
    "collapsed": true
   },
   "outputs": [],
   "source": []
  }
 ],
 "metadata": {
  "kernelspec": {
   "display_name": "Python 3",
   "language": "python",
   "name": "python3"
  },
  "language_info": {
   "codemirror_mode": {
    "name": "ipython",
    "version": 3
   },
   "file_extension": ".py",
   "mimetype": "text/x-python",
   "name": "python",
   "nbconvert_exporter": "python",
   "pygments_lexer": "ipython3",
   "version": "3.6.2"
  }
 },
 "nbformat": 4,
 "nbformat_minor": 2
}
