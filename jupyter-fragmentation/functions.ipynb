{
 "cells": [
  {
   "cell_type": "code",
   "execution_count": 1,
   "metadata": {
    "collapsed": true
   },
   "outputs": [],
   "source": [
    "import random\n",
    "import bitstring\n",
    "import math\n",
    "from bitstring import Bits"
   ]
  },
  {
   "cell_type": "code",
   "execution_count": 2,
   "metadata": {
    "collapsed": true
   },
   "outputs": [],
   "source": [
    "class Tile:\n",
    "    \n",
    "    def __init__(self, length):\n",
    "        self.bytes = []\n",
    "        self.length = []\n",
    "        self.max_len = length\n",
    "        self.emptyBits = length\n",
    "        self.fullBits = 0\n",
    "    \n",
    "    def addByte(self, newByte, length):\n",
    "        if (self.emptyBits < length):\n",
    "            print(\"## Empty space of Tile is not enough\")\n",
    "            return\n",
    "        self.bytes.append(newByte)\n",
    "        self.length.append(length)\n",
    "        self.emptyBits -= length\n",
    "        self.fullBits += length"
   ]
  },
  {
   "cell_type": "code",
   "execution_count": 3,
   "metadata": {
    "collapsed": true
   },
   "outputs": [],
   "source": [
    "\n",
    "# No-ACK and ACK-Always\n",
    "import math\n",
    "\n",
    "lsb_mask = [0b0, 0b00000001, 0b00000011, 0b00000111, 0b00001111, 0b00011111, 0b00111111, 0b01111111, 0b11111111]\n",
    "msb_mask = [0b0, 0b10000000, 0b11000000, 0b11100000, 0b11110000, 0b11111100, 0b11111100, 0b11111110, 0b11111111]\n",
    "\n",
    "\n",
    "def bytes_to_int(bytes):\n",
    "    result = 0\n",
    "    for b in bytes:\n",
    "        result = result * 256 + int(b)\n",
    "    return result\n",
    "\n",
    "\n",
    "def get_tiles(packet, tile_len, L2_size=8):\n",
    "    packet_bits = len(packet) * 8\n",
    "    max_tiles = 0\n",
    "    ############################Get numbers of tiles#################################\n",
    "    if (tile_len < L2_size):\n",
    "        print(\"## Tile length must be equal or greater than L2 size word =\", L2_size)\n",
    "    else:\n",
    "        remainder_tile = 0\n",
    "        if (packet_bits % tile_len > 0):\n",
    "            remainder_tile = 1\n",
    "        max_tiles = math.floor(packet_bits / tile_len) + remainder_tile\n",
    "    #################################################################################\n",
    "\n",
    "    # bytes_per_tile = math.floor(tile_len/8) #Get number of bytes per tile\n",
    "\n",
    "    packet_bits_left = packet_bits\n",
    "    all_tiles = []\n",
    "    #Estado incial, all_tiles vacio, tile vacia, indice 0\n",
    "    tile = Tile(tile_len)  # Se crea nueva Tile con un espacio libre de [tile_len] bits\n",
    "    octet_bits_left = 8 #Se pueden tomar los 8bits \n",
    "    octet_index = 0\n",
    "\n",
    "    while (packet_bits_left > 0):\n",
    "        if (tile.emptyBits >= 8):\n",
    "            if (octet_bits_left == 8):\n",
    "                tile.addByte(packet[octet_index], octet_bits_left)\n",
    "            else:\n",
    "                auxByte = bytes_to_int(packet[octet_index]) & lsb_mask[octet_bits_left]\n",
    "                tile.addByte(bytes([auxByte]), octet_bits_left)\n",
    "            packet_bits_left -= octet_bits_left\n",
    "            octet_bits_left = 8\n",
    "            octet_index += 1\n",
    "        else:\n",
    "            takenBits = tile.emptyBits\n",
    "            auxByte = (bytes_to_int(packet[octet_index])) >> (8 - takenBits)\n",
    "            tile.addByte(bytes([auxByte]), takenBits)\n",
    "            packet_bits_left -= takenBits\n",
    "            octet_bits_left -= takenBits\n",
    "            all_tiles.append(tile)\n",
    "            tile = Tile(tile_len)\n",
    "    all_tiles.append(tile)\n",
    "    return all_tiles, max_tiles"
   ]
  },
  {
   "cell_type": "code",
   "execution_count": 4,
   "metadata": {},
   "outputs": [
    {
     "name": "stdout",
     "output_type": "stream",
     "text": [
      "Tiles Number:  3\n",
      "Tile1 bits:  18\n",
      "Tile2 bits:  18\n",
      "Tile3 bits:  12\n"
     ]
    }
   ],
   "source": [
    "packet = [bytes([232]), bytes([124]), bytes([55]), bytes([2]), bytes([199]), bytes([13])]\n",
    "#packet: [11101000, 01111100, 00110111, 00000010, 11000111, 00001101]\n",
    "#tiles:  [11101000 01111100 00, 110111 00000010 1100, 0111 00001101]\n",
    "tiles, tiles_number = get_tiles(packet, 18) \n",
    "print(\"Tiles Number: \", tiles_number)\n",
    "print(\"Tile1 bits: \", tiles[0].fullBits)\n",
    "print(\"Tile2 bits: \", tiles[1].fullBits)\n",
    "print(\"Tile3 bits: \", tiles[2].fullBits)"
   ]
  },
  {
   "cell_type": "code",
   "execution_count": 34,
   "metadata": {},
   "outputs": [
    {
     "ename": "CreationError",
     "evalue": "A non-zero length must be specified with a uint initialiser.",
     "output_type": "error",
     "traceback": [
      "\u001b[1;31m---------------------------------------------------------------------------\u001b[0m",
      "\u001b[1;31mKeyError\u001b[0m                                  Traceback (most recent call last)",
      "\u001b[1;32mD:\\Anaconda3\\lib\\site-packages\\bitstring.py\u001b[0m in \u001b[0;36m_initialise\u001b[1;34m(self, auto, length, offset, **kwargs)\u001b[0m\n\u001b[0;32m    816\u001b[0m         \u001b[1;32mtry\u001b[0m\u001b[1;33m:\u001b[0m\u001b[1;33m\u001b[0m\u001b[0m\n\u001b[1;32m--> 817\u001b[1;33m             \u001b[0minit_without_length_or_offset\u001b[0m\u001b[1;33m[\u001b[0m\u001b[0mk\u001b[0m\u001b[1;33m]\u001b[0m\u001b[1;33m(\u001b[0m\u001b[0mself\u001b[0m\u001b[1;33m,\u001b[0m \u001b[0mv\u001b[0m\u001b[1;33m)\u001b[0m\u001b[1;33m\u001b[0m\u001b[0m\n\u001b[0m\u001b[0;32m    818\u001b[0m             \u001b[1;32mif\u001b[0m \u001b[0mlength\u001b[0m \u001b[1;32mis\u001b[0m \u001b[1;32mnot\u001b[0m \u001b[1;32mNone\u001b[0m \u001b[1;32mor\u001b[0m \u001b[0moffset\u001b[0m \u001b[1;32mis\u001b[0m \u001b[1;32mnot\u001b[0m \u001b[1;32mNone\u001b[0m\u001b[1;33m:\u001b[0m\u001b[1;33m\u001b[0m\u001b[0m\n",
      "\u001b[1;31mKeyError\u001b[0m: 'uint'",
      "\nDuring handling of the above exception, another exception occurred:\n",
      "\u001b[1;31mCreationError\u001b[0m                             Traceback (most recent call last)",
      "\u001b[1;32m<ipython-input-34-24372eedf61b>\u001b[0m in \u001b[0;36m<module>\u001b[1;34m()\u001b[0m\n\u001b[1;32m----> 1\u001b[1;33m \u001b[0ma\u001b[0m \u001b[1;33m=\u001b[0m \u001b[0mBits\u001b[0m\u001b[1;33m(\u001b[0m\u001b[0muint\u001b[0m\u001b[1;33m=\u001b[0m\u001b[1;36m0\u001b[0m\u001b[1;33m,\u001b[0m \u001b[0mlength\u001b[0m\u001b[1;33m=\u001b[0m\u001b[1;36m0\u001b[0m\u001b[1;33m)\u001b[0m\u001b[1;33m\u001b[0m\u001b[0m\n\u001b[0m\u001b[0;32m      2\u001b[0m \u001b[0mprint\u001b[0m\u001b[1;33m(\u001b[0m\u001b[0ma\u001b[0m\u001b[1;33m)\u001b[0m\u001b[1;33m\u001b[0m\u001b[0m\n",
      "\u001b[1;32mD:\\Anaconda3\\lib\\site-packages\\bitstring.py\u001b[0m in \u001b[0;36m__new__\u001b[1;34m(cls, auto, length, offset, _cache, **kwargs)\u001b[0m\n\u001b[0;32m    794\u001b[0m             \u001b[1;32mpass\u001b[0m\u001b[1;33m\u001b[0m\u001b[0m\n\u001b[0;32m    795\u001b[0m         \u001b[0mx\u001b[0m \u001b[1;33m=\u001b[0m \u001b[0msuper\u001b[0m\u001b[1;33m(\u001b[0m\u001b[0mBits\u001b[0m\u001b[1;33m,\u001b[0m \u001b[0mcls\u001b[0m\u001b[1;33m)\u001b[0m\u001b[1;33m.\u001b[0m\u001b[0m__new__\u001b[0m\u001b[1;33m(\u001b[0m\u001b[0mcls\u001b[0m\u001b[1;33m)\u001b[0m\u001b[1;33m\u001b[0m\u001b[0m\n\u001b[1;32m--> 796\u001b[1;33m         \u001b[0mx\u001b[0m\u001b[1;33m.\u001b[0m\u001b[0m_initialise\u001b[0m\u001b[1;33m(\u001b[0m\u001b[0mauto\u001b[0m\u001b[1;33m,\u001b[0m \u001b[0mlength\u001b[0m\u001b[1;33m,\u001b[0m \u001b[0moffset\u001b[0m\u001b[1;33m,\u001b[0m \u001b[1;33m**\u001b[0m\u001b[0mkwargs\u001b[0m\u001b[1;33m)\u001b[0m\u001b[1;33m\u001b[0m\u001b[0m\n\u001b[0m\u001b[0;32m    797\u001b[0m         \u001b[1;32mreturn\u001b[0m \u001b[0mx\u001b[0m\u001b[1;33m\u001b[0m\u001b[0m\n\u001b[0;32m    798\u001b[0m \u001b[1;33m\u001b[0m\u001b[0m\n",
      "\u001b[1;32mD:\\Anaconda3\\lib\\site-packages\\bitstring.py\u001b[0m in \u001b[0;36m_initialise\u001b[1;34m(self, auto, length, offset, **kwargs)\u001b[0m\n\u001b[0;32m    820\u001b[0m         \u001b[1;32mexcept\u001b[0m \u001b[0mKeyError\u001b[0m\u001b[1;33m:\u001b[0m\u001b[1;33m\u001b[0m\u001b[0m\n\u001b[0;32m    821\u001b[0m             \u001b[1;32mtry\u001b[0m\u001b[1;33m:\u001b[0m\u001b[1;33m\u001b[0m\u001b[0m\n\u001b[1;32m--> 822\u001b[1;33m                 \u001b[0minit_with_length_only\u001b[0m\u001b[1;33m[\u001b[0m\u001b[0mk\u001b[0m\u001b[1;33m]\u001b[0m\u001b[1;33m(\u001b[0m\u001b[0mself\u001b[0m\u001b[1;33m,\u001b[0m \u001b[0mv\u001b[0m\u001b[1;33m,\u001b[0m \u001b[0mlength\u001b[0m\u001b[1;33m)\u001b[0m\u001b[1;33m\u001b[0m\u001b[0m\n\u001b[0m\u001b[0;32m    823\u001b[0m                 \u001b[1;32mif\u001b[0m \u001b[0moffset\u001b[0m \u001b[1;32mis\u001b[0m \u001b[1;32mnot\u001b[0m \u001b[1;32mNone\u001b[0m\u001b[1;33m:\u001b[0m\u001b[1;33m\u001b[0m\u001b[0m\n\u001b[0;32m    824\u001b[0m                     \u001b[1;32mraise\u001b[0m \u001b[0mCreationError\u001b[0m\u001b[1;33m(\u001b[0m\u001b[1;34m\"Cannot use offset with this initialiser.\"\u001b[0m\u001b[1;33m)\u001b[0m\u001b[1;33m\u001b[0m\u001b[0m\n",
      "\u001b[1;32mD:\\Anaconda3\\lib\\site-packages\\bitstring.py\u001b[0m in \u001b[0;36m_setuint\u001b[1;34m(self, uint, length)\u001b[0m\n\u001b[0;32m   1360\u001b[0m         \u001b[1;31m# TODO: All this checking code should be hoisted out of here!\u001b[0m\u001b[1;33m\u001b[0m\u001b[1;33m\u001b[0m\u001b[0m\n\u001b[0;32m   1361\u001b[0m         \u001b[1;32mif\u001b[0m \u001b[0mlength\u001b[0m \u001b[1;32mis\u001b[0m \u001b[1;32mNone\u001b[0m \u001b[1;32mor\u001b[0m \u001b[0mlength\u001b[0m \u001b[1;33m==\u001b[0m \u001b[1;36m0\u001b[0m\u001b[1;33m:\u001b[0m\u001b[1;33m\u001b[0m\u001b[0m\n\u001b[1;32m-> 1362\u001b[1;33m             raise CreationError(\"A non-zero length must be specified with a \"\n\u001b[0m\u001b[0;32m   1363\u001b[0m                                 \"uint initialiser.\")\n\u001b[0;32m   1364\u001b[0m         \u001b[1;32mif\u001b[0m \u001b[0muint\u001b[0m \u001b[1;33m>=\u001b[0m \u001b[1;33m(\u001b[0m\u001b[1;36m1\u001b[0m \u001b[1;33m<<\u001b[0m \u001b[0mlength\u001b[0m\u001b[1;33m)\u001b[0m\u001b[1;33m:\u001b[0m\u001b[1;33m\u001b[0m\u001b[0m\n",
      "\u001b[1;31mCreationError\u001b[0m: A non-zero length must be specified with a uint initialiser."
     ]
    }
   ],
   "source": [
    "a = Bits(uint=0, length=0)\n",
    "print(a)\n"
   ]
  },
  {
   "cell_type": "code",
   "execution_count": 43,
   "metadata": {},
   "outputs": [
    {
     "ename": "TypeError",
     "evalue": "unsupported operand type(s) for <<: 'bytes' and 'int'",
     "output_type": "error",
     "traceback": [
      "\u001b[1;31m---------------------------------------------------------------------------\u001b[0m",
      "\u001b[1;31mTypeError\u001b[0m                                 Traceback (most recent call last)",
      "\u001b[1;32m<ipython-input-43-42b1186de470>\u001b[0m in \u001b[0;36m<module>\u001b[1;34m()\u001b[0m\n\u001b[0;32m      8\u001b[0m     \u001b[1;32mreturn\u001b[0m \u001b[0mresult\u001b[0m\u001b[1;33m\u001b[0m\u001b[0m\n\u001b[0;32m      9\u001b[0m \u001b[1;33m\u001b[0m\u001b[0m\n\u001b[1;32m---> 10\u001b[1;33m \u001b[0mprint\u001b[0m \u001b[1;33m(\u001b[0m\u001b[0mx\u001b[0m \u001b[1;33m<<\u001b[0m \u001b[1;36m1\u001b[0m\u001b[1;33m)\u001b[0m\u001b[1;33m\u001b[0m\u001b[0m\n\u001b[0m\u001b[0;32m     11\u001b[0m \u001b[1;33m\u001b[0m\u001b[0m\n\u001b[0;32m     12\u001b[0m \u001b[1;33m\u001b[0m\u001b[0m\n",
      "\u001b[1;31mTypeError\u001b[0m: unsupported operand type(s) for <<: 'bytes' and 'int'"
     ]
    }
   ],
   "source": [
    "mask = [0b0 , 0b1 , 0b11, 0b111, 0b1111, 0b11111, 0b111111, 0b1111111, 0b11111111]\n",
    "mask2 = [bytes([0]), bytes([1]), bytes([3]), bytes([7]), bytes([15]), bytes([31]), bytes([63]), bytes([127]), bytes([255])]\n",
    "x = bytes([83])\n",
    "\n",
    "def obtain_lsb(byte, bits):\n",
    "    shift = 8 - bits\n",
    "    result = (byte << shift) >> shift\n",
    "    return result\n",
    "\n",
    "print (x << 1)\n",
    "    \n",
    "    "
   ]
  },
  {
   "cell_type": "code",
   "execution_count": null,
   "metadata": {
    "collapsed": true
   },
   "outputs": [],
   "source": [
    "def get_tiles(packet, tile_len):\n",
    "    #packet = bytes(packet)\n",
    "    packet_bits_left = len(packet)*8\n",
    "    bytes_per_tile = math.floor(tile_len/8)\n",
    "    all_tiles = []\n",
    "    octet_index = 0\n",
    "    octet_bits_left = 8\n",
    "    while packet_bits_left > 0:\n",
    "        tile = Tile()\n",
    "        #################################################################\n",
    "        #tile.append() los bits restantes del ultimo byte: byte_bits_left\n",
    "        if (octet_bits_left == 8):\n",
    "            tile.addByte(packet[octet_index])\n",
    "            tile.addLength(8)\n",
    "        else if (octet_bits_left != 0):\n",
    "            auxByte = bytes_to_int(packet[octet_index]) & mask[octet_bits_left]\n",
    "            tile.addByte(bytes([auxByte]))\n",
    "            tile.addlength(octet_bits_left)\n",
    "        #################################################################\n",
    "        byte_index += 1\n",
    "        packet_bits_left -= octet_bits_left\n",
    "        if (packet_bits_left - 8*(bytes_per_tile-1) > 0):\n",
    "            for i in range(0, bytes_per_tile-1):\n",
    "                tile.addByte(packet[byte_index])\n",
    "                tile.\n",
    "                byte_index += 1\n",
    "                packet_bits_left -= 8\n",
    "                \n",
    "            bits_to_append = tile_len - (bytes_per_tile-1)*8 - octet_bits_left\n",
    "            if (bits_to_append > 0):\n",
    "                #tile.append() los bits que faltaron\n",
    "                packet_bits_left -= bits_to_append\n",
    "                octet_bits_left = 8 - bits_to_append\n",
    "\n",
    "        else:\n",
    "            #tile.append() todo lo que falta\n",
    "            packet_bits_left = 0            \n",
    "            \n",
    "          \n",
    "        all_tiles.append(tile)\n",
    "        tile = []\n",
    "    \n",
    "    return all_tiles"
   ]
  },
  {
   "cell_type": "code",
   "execution_count": 85,
   "metadata": {
    "collapsed": true
   },
   "outputs": [],
   "source": [
    "#No-ACK and ACK-Always\n",
    "import math\n",
    "\n",
    "lsb_mask = [0b0, 0b00000001, 0b00000011, 0b00000111, 0b00001111, 0b00011111, 0b00111111, 0b01111111, 0b11111111]\n",
    "msb_mask = [0b0, 0b10000000, 0b11000000, 0b11100000, 0b11110000, 0b11111100, 0b11111100, 0b11111110, 0b11111111]\n",
    "\n",
    "def bytes_to_int(bytes):\n",
    "    result = 0\n",
    "    for b in bytes:\n",
    "        result = result * 256 + int(b)\n",
    "    return result\n",
    "\n",
    "def get_tiles(packet, tile_len, L2_size = 8):\n",
    "    packet_bits = len(packet)*8\n",
    "    max_tiles = 0\n",
    "    ############################Get numbers of tiles#################################\n",
    "    if (tile_len < L2_size):\n",
    "        print(\"## Tile length must be equal or greater than L2 size word =\", L2_size)\n",
    "    else:\n",
    "        remainder_tile = 0\n",
    "        if (packet_bits%tile_len > 0):\n",
    "            remainder_tile = 1\n",
    "        max_tiles = math.floor(packet_bits/tile_len) + remainder_tile\n",
    "    #################################################################################\n",
    "    \n",
    "    #bytes_per_tile = math.floor(tile_len/8) #Get number of bytes per tile\n",
    "    \n",
    "    packet_bits_left = packet_bits\n",
    "    all_tiles = []\n",
    "    \n",
    "    tile = Tile(tile_len) #Se crea nueva Tile con un espacio libre de [tile_len] bits\n",
    "    octet_bits_left = 8\n",
    "    octet_index = 0\n",
    "    \n",
    "    while (packet_bits_left > 0):\n",
    "        if (tile.emptyBits >= 8):\n",
    "            if (octet_bits_left == 8):\n",
    "                tile.addByte(packet[octet_index], octet_bits_left)\n",
    "            else:\n",
    "                auxByte = bytes_to_int(packet[octet_index]) & lsb_mask[octet_bits_left]\n",
    "                tile.addByte(bytes(auxByte), octet_bits_left)\n",
    "            packet_bits_left -= octet_bits_left\n",
    "            octet_bits_left = 8\n",
    "            octet_index += 1\n",
    "        else:\n",
    "            auxByte = (bytes_to_int(packet[octet_index])) >> (8 - tile.emptyBits)\n",
    "            tile.addByte(packet[octet_index], tile.emptyBits)\n",
    "            packet_bits_left -= tile.emptyBits\n",
    "            octet_bits_left -= tile.emptyBits\n",
    "            all_tiles.append(tile)\n",
    "            tile = Tile(tile_len)\n",
    "    return all_tiles, max_tiles"
   ]
  },
  {
   "cell_type": "code",
   "execution_count": 86,
   "metadata": {},
   "outputs": [
    {
     "ename": "TypeError",
     "evalue": "__init__() takes 1 positional argument but 2 were given",
     "output_type": "error",
     "traceback": [
      "\u001b[1;31m---------------------------------------------------------------------------\u001b[0m",
      "\u001b[1;31mTypeError\u001b[0m                                 Traceback (most recent call last)",
      "\u001b[1;32m<ipython-input-86-5ca5c2015c6a>\u001b[0m in \u001b[0;36m<module>\u001b[1;34m()\u001b[0m\n\u001b[0;32m      1\u001b[0m \u001b[0mpacket\u001b[0m \u001b[1;33m=\u001b[0m \u001b[1;33m[\u001b[0m\u001b[0mbytes\u001b[0m\u001b[1;33m(\u001b[0m\u001b[1;33m[\u001b[0m\u001b[1;36m232\u001b[0m\u001b[1;33m]\u001b[0m\u001b[1;33m)\u001b[0m\u001b[1;33m,\u001b[0m \u001b[0mbytes\u001b[0m\u001b[1;33m(\u001b[0m\u001b[1;33m[\u001b[0m\u001b[1;36m124\u001b[0m\u001b[1;33m]\u001b[0m\u001b[1;33m)\u001b[0m\u001b[1;33m,\u001b[0m \u001b[0mbytes\u001b[0m\u001b[1;33m(\u001b[0m\u001b[1;33m[\u001b[0m\u001b[1;36m55\u001b[0m\u001b[1;33m]\u001b[0m\u001b[1;33m)\u001b[0m\u001b[1;33m,\u001b[0m \u001b[0mbytes\u001b[0m\u001b[1;33m(\u001b[0m\u001b[1;33m[\u001b[0m\u001b[1;36m2\u001b[0m\u001b[1;33m]\u001b[0m\u001b[1;33m)\u001b[0m\u001b[1;33m,\u001b[0m \u001b[0mbytes\u001b[0m\u001b[1;33m(\u001b[0m\u001b[1;33m[\u001b[0m\u001b[1;36m199\u001b[0m\u001b[1;33m]\u001b[0m\u001b[1;33m)\u001b[0m\u001b[1;33m,\u001b[0m \u001b[0mbytes\u001b[0m\u001b[1;33m(\u001b[0m\u001b[1;33m[\u001b[0m\u001b[1;36m13\u001b[0m\u001b[1;33m]\u001b[0m\u001b[1;33m)\u001b[0m\u001b[1;33m]\u001b[0m\u001b[1;33m\u001b[0m\u001b[0m\n\u001b[0;32m      2\u001b[0m \u001b[1;33m\u001b[0m\u001b[0m\n\u001b[1;32m----> 3\u001b[1;33m \u001b[0mtiles\u001b[0m \u001b[1;33m=\u001b[0m \u001b[0mget_tiles\u001b[0m\u001b[1;33m(\u001b[0m\u001b[0mpacket\u001b[0m\u001b[1;33m,\u001b[0m \u001b[1;36m18\u001b[0m\u001b[1;33m)\u001b[0m\u001b[1;33m\u001b[0m\u001b[0m\n\u001b[0m",
      "\u001b[1;32m<ipython-input-85-6960ee2cd3aa>\u001b[0m in \u001b[0;36mget_tiles\u001b[1;34m(packet, tile_len, L2_size)\u001b[0m\n\u001b[0;32m     29\u001b[0m     \u001b[0mall_tiles\u001b[0m \u001b[1;33m=\u001b[0m \u001b[1;33m[\u001b[0m\u001b[1;33m]\u001b[0m\u001b[1;33m\u001b[0m\u001b[0m\n\u001b[0;32m     30\u001b[0m \u001b[1;33m\u001b[0m\u001b[0m\n\u001b[1;32m---> 31\u001b[1;33m     \u001b[0mtile\u001b[0m \u001b[1;33m=\u001b[0m \u001b[0mTile\u001b[0m\u001b[1;33m(\u001b[0m\u001b[0mtile_len\u001b[0m\u001b[1;33m)\u001b[0m \u001b[1;31m#Se crea nueva Tile con un espacio libre de [tile_len] bits\u001b[0m\u001b[1;33m\u001b[0m\u001b[0m\n\u001b[0m\u001b[0;32m     32\u001b[0m     \u001b[0moctet_bits_left\u001b[0m \u001b[1;33m=\u001b[0m \u001b[1;36m8\u001b[0m\u001b[1;33m\u001b[0m\u001b[0m\n\u001b[0;32m     33\u001b[0m     \u001b[0moctet_index\u001b[0m \u001b[1;33m=\u001b[0m \u001b[1;36m0\u001b[0m\u001b[1;33m\u001b[0m\u001b[0m\n",
      "\u001b[1;31mTypeError\u001b[0m: __init__() takes 1 positional argument but 2 were given"
     ]
    }
   ],
   "source": [
    "packet = [bytes([232]), bytes([124]), bytes([55]), bytes([2]), bytes([199]), bytes([13])]\n",
    "\n",
    "tiles = get_tiles(packet, 18)\n"
   ]
  },
  {
   "cell_type": "code",
   "execution_count": 73,
   "metadata": {},
   "outputs": [
    {
     "data": {
      "text/plain": [
       "6"
      ]
     },
     "execution_count": 73,
     "metadata": {},
     "output_type": "execute_result"
    }
   ],
   "source": []
  },
  {
   "cell_type": "code",
   "execution_count": 49,
   "metadata": {},
   "outputs": [
    {
     "data": {
      "text/plain": [
       "19"
      ]
     },
     "execution_count": 49,
     "metadata": {},
     "output_type": "execute_result"
    }
   ],
   "source": [
    "\n",
    "\n",
    "x = bytes([83])\n",
    "y = bytes_to_int(x)"
   ]
  },
  {
   "cell_type": "code",
   "execution_count": 53,
   "metadata": {},
   "outputs": [
    {
     "ename": "SyntaxError",
     "evalue": "invalid syntax (<ipython-input-53-a937c29e4dc3>, line 1)",
     "output_type": "error",
     "traceback": [
      "\u001b[1;36m  File \u001b[1;32m\"<ipython-input-53-a937c29e4dc3>\"\u001b[1;36m, line \u001b[1;32m1\u001b[0m\n\u001b[1;33m    (9/2) ? print(1) : print(0)\u001b[0m\n\u001b[1;37m          ^\u001b[0m\n\u001b[1;31mSyntaxError\u001b[0m\u001b[1;31m:\u001b[0m invalid syntax\n"
     ]
    }
   ],
   "source": [
    "(9/2) ? print(1) : print(0)"
   ]
  },
  {
   "cell_type": "code",
   "execution_count": 5,
   "metadata": {},
   "outputs": [
    {
     "name": "stdout",
     "output_type": "stream",
     "text": [
      "b'\\x01\\x02\\x03'\n",
      "3\n"
     ]
    }
   ],
   "source": [
    "packet = bytes([1,2,3])\n",
    "print(packet)\n",
    "print(len(packet))"
   ]
  },
  {
   "cell_type": "code",
   "execution_count": 13,
   "metadata": {},
   "outputs": [
    {
     "data": {
      "text/plain": [
       "4"
      ]
     },
     "execution_count": 13,
     "metadata": {},
     "output_type": "execute_result"
    }
   ],
   "source": [
    "import math\n",
    "math.floor(34/8)"
   ]
  },
  {
   "cell_type": "markdown",
   "metadata": {},
   "source": [
    "# Packet Gen"
   ]
  },
  {
   "cell_type": "code",
   "execution_count": 4,
   "metadata": {
    "collapsed": true
   },
   "outputs": [],
   "source": [
    "def packet_gen(largoBytes, semilla = 10):\n",
    "    packet = bytearray(largoBytes)\n",
    "    for i in range(0, largoBytes):\n",
    "        packet[i] = random.getrandbits(8)\n",
    "    packet = Bits(packet)\n",
    "    return(packet)"
   ]
  },
  {
   "cell_type": "markdown",
   "metadata": {},
   "source": [
    "# Tiles Gen + padding"
   ]
  },
  {
   "cell_type": "code",
   "execution_count": 5,
   "metadata": {
    "collapsed": true
   },
   "outputs": [],
   "source": [
    "def get_tiles(bitsPacket, tileLengthBits):\n",
    "    tiles = []\n",
    "    #verificar si el tamaño de packet es multiplo del tamaño de tile\n",
    "    if bitsPacket.length%tileLengthBits > 0:\n",
    "        #no es multiplo -> agregar padding\n",
    "        padding = tileLengthBits - bitsPacket.length%tileLengthBits\n",
    "        bitsPacketPadding = bitsPacket + Bits(padding)\n",
    "    initIndex = 0\n",
    "    finalIndex = tileLengthBits\n",
    "    paddedPacketLength = bitsPacketPadding.length\n",
    "    while finalIndex <= paddedPacketLength:\n",
    "        tile = bitsPacketPadding[initIndex:finalIndex]\n",
    "        tiles.append(tile)\n",
    "        initIndex += tileLengthBits\n",
    "        finalIndex += tileLengthBits\n",
    "    return tiles, padding"
   ]
  },
  {
   "cell_type": "code",
   "execution_count": 22,
   "metadata": {
    "collapsed": true
   },
   "outputs": [],
   "source": [
    "def packet_padding(packet, bitsMultiple):\n",
    "    newPacket = Bits(packet)\n",
    "    if newPacket.length%bitsMultiple > 0:\n",
    "        #no es multiplo de 1 byte\n",
    "        padding = bitsMultiple - newPacket.length%bitsMultiple\n",
    "        newPacket = newPacket + Bits(padding)\n",
    "    return newPacket, padding"
   ]
  },
  {
   "cell_type": "code",
   "execution_count": 32,
   "metadata": {},
   "outputs": [
    {
     "ename": "MemoryError",
     "evalue": "",
     "output_type": "error",
     "traceback": [
      "\u001b[1;31m---------------------------------------------------------------------------\u001b[0m",
      "\u001b[1;31mMemoryError\u001b[0m                               Traceback (most recent call last)",
      "\u001b[1;32m<ipython-input-32-91fc77c31489>\u001b[0m in \u001b[0;36m<module>\u001b[1;34m()\u001b[0m\n\u001b[0;32m      2\u001b[0m \u001b[0mp\u001b[0m \u001b[1;33m=\u001b[0m \u001b[0mbytes\u001b[0m\u001b[1;33m(\u001b[0m\u001b[1;33m[\u001b[0m\u001b[1;36m239\u001b[0m\u001b[1;33m]\u001b[0m\u001b[1;33m)\u001b[0m\u001b[1;33m\u001b[0m\u001b[0m\n\u001b[0;32m      3\u001b[0m \u001b[1;32mfor\u001b[0m \u001b[0ma\u001b[0m \u001b[1;32min\u001b[0m \u001b[0mrange\u001b[0m\u001b[1;33m(\u001b[0m\u001b[1;36m0\u001b[0m\u001b[1;33m,\u001b[0m\u001b[1;36m1380\u001b[0m\u001b[1;33m)\u001b[0m\u001b[1;33m:\u001b[0m\u001b[1;33m\u001b[0m\u001b[0m\n\u001b[1;32m----> 4\u001b[1;33m     \u001b[0mp\u001b[0m \u001b[1;33m=\u001b[0m \u001b[0mp\u001b[0m \u001b[1;33m+\u001b[0m \u001b[0mp\u001b[0m\u001b[1;33m\u001b[0m\u001b[0m\n\u001b[0m\u001b[0;32m      5\u001b[0m \u001b[0mprint\u001b[0m\u001b[1;33m(\u001b[0m\u001b[0mp\u001b[0m\u001b[1;33m)\u001b[0m\u001b[1;33m\u001b[0m\u001b[0m\n",
      "\u001b[1;31mMemoryError\u001b[0m: "
     ]
    }
   ],
   "source": [
    "p = Bits(uint= 1, length=1380*8)\n",
    "p = bytes([239])\n",
    "for a in range(0,1380):\n",
    "    p = p + p\n",
    "print(p)"
   ]
  },
  {
   "cell_type": "markdown",
   "metadata": {},
   "source": [
    "# Headers gen\n"
   ]
  },
  {
   "cell_type": "code",
   "execution_count": 6,
   "metadata": {
    "collapsed": true
   },
   "outputs": [],
   "source": [
    "def get_regular_header(ruleId, dTag, W, FCN):\n",
    "    #RuleId field\n",
    "    rId = Bits(uint=ruleId[\"ID\"], length=8) \n",
    "    #DTag field\n",
    "    if ruleId[\"PROFILE\"][\"DTAG_SIZE\"] == 0:\n",
    "        dT = None\n",
    "    else:\n",
    "        dT = Bits(uint=dTag, length=ruleId[\"PROFILE\"][\"DTAG_SIZE\"])\n",
    "    #W field\n",
    "    w   = Bits(uint=W, length=8)[len(w)-ruleId[\"PROFILE\"][\"W_SIZE\"]:len(w)] #toma los M bits menos significativos\n",
    "    #FCN field\n",
    "    fcn = Bits(uint=FCN, length=ruleId[\"PROFILE\"][\"FCN_SIZE\"])\n",
    "    header = rId + dT + w + fcn\n",
    "    return header, rId, dT, w, fcn\n",
    "\n",
    "def get_all1_header(ruleId, packet, dTag, W):\n",
    "    rId = Bits(uint=ruleId[\"ID\"], length=8) \n",
    "    dT  = Bits(uint=dTag        , length=ruleId[\"PROFILE\"][\"DTAG_SIZE\"])\n",
    "    w   = Bits(uint=W           , length=8)[len(w)-ruleId[\"PROFILE\"][\"W_SIZE\"]:len(w)]\n",
    "    fcn = ~Bits(length=ruleId[\"PROFILE\"][\"FCN_SIZE\"])"
   ]
  },
  {
   "cell_type": "markdown",
   "metadata": {},
   "source": [
    "# CRC32 implementation"
   ]
  },
  {
   "cell_type": "code",
   "execution_count": 8,
   "metadata": {
    "collapsed": true
   },
   "outputs": [],
   "source": [
    "class CRC32(object):\n",
    "    '''\n",
    "    Class who carry the crc32 algorithm implementation\n",
    "    '''\n",
    "    def __init__(self):\n",
    "        self.table = self.create_table()\n",
    "    \n",
    "    def create_table(self):\n",
    "        table = []\n",
    "        for i in range(256):\n",
    "            k = i\n",
    "            for j in range(8):\n",
    "                if k & 1:\n",
    "                    k ^= 0x1db710640\n",
    "                k >>= 1\n",
    "            table.append(k)\n",
    "        return table\n",
    "        \n",
    "    def calc(self, buf, crc=0):\n",
    "        crc ^= 0xffffffff\n",
    "        for k in buf:\n",
    "            crc = (crc >> 8) ^ self.table[(crc & 0xff) ^ k]\n",
    "        return crc ^ 0xffffffff"
   ]
  },
  {
   "cell_type": "code",
   "execution_count": 9,
   "metadata": {
    "collapsed": true
   },
   "outputs": [],
   "source": [
    "a = Bits(bin='0b0101')\n",
    "b = Bits(bin='0b1110001')"
   ]
  },
  {
   "cell_type": "code",
   "execution_count": 12,
   "metadata": {},
   "outputs": [
    {
     "name": "stdout",
     "output_type": "stream",
     "text": [
      "CRC a:  0x578185bd\n",
      "CRC b:  0xba201e49\n"
     ]
    }
   ],
   "source": [
    "crc_calculator = CRC32()\n",
    "print(\"CRC a: \", hex(crc_calculator.calc(a)))\n",
    "print(\"CRC b: \", hex(crc_calculator.calc(b)))\n"
   ]
  },
  {
   "cell_type": "code",
   "execution_count": 8,
   "metadata": {
    "collapsed": true
   },
   "outputs": [],
   "source": [
    "paquete = packet_gen(largoBytes=24)\n",
    "tiles, padding = get_tiles(paquete, 7)"
   ]
  },
  {
   "cell_type": "markdown",
   "metadata": {},
   "source": [
    "# Rules and Profiles Structure"
   ]
  },
  {
   "cell_type": "code",
   "execution_count": 9,
   "metadata": {
    "collapsed": true
   },
   "outputs": [],
   "source": [
    "ruleIdElements = [\n",
    "    \"ID\", #number\n",
    "    \"FRAGMENTATION\", #Si es un tipo fragmentado\n",
    "    \"MODE\", #modo de fragmentacion\n",
    "    \"PROFILE\" #profile a ocupar\n",
    "]\n",
    "\n",
    "profileElements = [\n",
    "    \"FCN_SIZE\", #[size en bits]\n",
    "    \"DTAG_SIZE\", #[size en bits]\n",
    "    \"W_SIZE\", #[size en bits]\n",
    "    \"MIC\", #[size, algorithm]\n",
    "    \"WINDOW_SIZE\", #[value]\n",
    "    \"MAX_ACK_REQUESTS\", #[value]\n",
    "    \"RETRANSMISSION_TIMER\", #[value_seconds]\n",
    "    \"INACTIVITY_TIMER\" #[value_seconds]\n",
    "]"
   ]
  },
  {
   "cell_type": "markdown",
   "metadata": {},
   "source": [
    "# Some rules definition"
   ]
  },
  {
   "cell_type": "code",
   "execution_count": 10,
   "metadata": {
    "collapsed": true
   },
   "outputs": [],
   "source": [
    "profile1 = {\n",
    "    \"RULEID_SIZE\": 8,\n",
    "    \"DTAG_SIZE\": 8, \n",
    "    \"W_SIZE\": 1, \n",
    "    \"FCN_SIZE\": 8,\n",
    "    \"MIC\": [32, \"CRC32\"], \n",
    "    \"WINDOW_SIZE\": 5,\n",
    "    \"MAX_ACK_REQUESTS\": 10,\n",
    "    \"RETRANSMISSION_TIMER\": 10, \n",
    "    \"INACTIVITY_TIMER\": 10 \n",
    "}\n",
    "\n",
    "rule1 = {\n",
    "    \"ID\": 1,\n",
    "    \"FRAGMENTATION\": True,\n",
    "    \"MODE\": \"always-ack\",\n",
    "    \"PROFILE\": profile1\n",
    "}\n",
    "\n",
    "rule2 = {\n",
    "    \"ID\": 2,\n",
    "    \"FRAGMENTATION\": True,\n",
    "    \"MODE\": \"always-ack\",\n",
    "    \"PROFILE\": profile1\n",
    "}\n",
    "\n",
    "rule3 = {\n",
    "    \"ID\": 2,\n",
    "    \"FRAGMENTATION\": True,\n",
    "    \"MODE\": \"always-ack\",\n",
    "    \"PROFILE\": profile1\n",
    "}\n",
    "\n",
    "rules = {\n",
    "    rule1[\"ID\"]: rule1,\n",
    "    rule2[\"ID\"]: rule2,\n",
    "    rule3[\"ID\"]: rule3\n",
    "}"
   ]
  },
  {
   "cell_type": "code",
   "execution_count": 11,
   "metadata": {
    "collapsed": true
   },
   "outputs": [],
   "source": [
    "def send_ack_always(packet, rule, dTag, fragment_size_bytes = 100):\n",
    "    #asegurarse que el paquete sea de tipo Bits\n",
    "    packet = Bits(packet)\n",
    "    #Tamaño de header en Bits\n",
    "    reg_hdr_size_bits = rule[\"PROFILE\"][\"RULEID_SIZE\"]+rule[\"PROFILE\"][\"DTAG_SIZE\"]+rule[\"PROFILE\"][\"W_SIZE\"]+rule[\"PROFILE\"][\"FCN_SIZE\"]\n",
    "    tiles_size_bits = fragment_size_bytes*8 - reg_hdr_size_bits #se calcula tamaño de cada tile\n",
    "    max_windows_number = math.ceil(packet.length/tiles_size) #se calcula el numero total de ventanas a transmitir\n",
    "    \n",
    "    "
   ]
  },
  {
   "cell_type": "code",
   "execution_count": 131,
   "metadata": {},
   "outputs": [
    {
     "data": {
      "text/plain": [
       "Bits('0x1ce0fee655ddf567d7996d426fc8ebc6c22850da66dc9c2c')"
      ]
     },
     "execution_count": 131,
     "metadata": {},
     "output_type": "execute_result"
    }
   ],
   "source": [
    "bits(paquete)"
   ]
  },
  {
   "cell_type": "code",
   "execution_count": 32,
   "metadata": {
    "collapsed": true
   },
   "outputs": [],
   "source": [
    "def get_window(tiles, windowSize, windowNumber):\n",
    "    window = []\n",
    "    tilesNumber = len(tiles)\n",
    "    index = windowNumber*windowSize\n",
    "    while(index < tilesNumber):\n",
    "        window.append(tiles[index])\n",
    "        index = index+1\n",
    "    return window"
   ]
  }
 ],
 "metadata": {
  "kernelspec": {
   "display_name": "Python 3",
   "language": "python",
   "name": "python3"
  },
  "language_info": {
   "codemirror_mode": {
    "name": "ipython",
    "version": 3
   },
   "file_extension": ".py",
   "mimetype": "text/x-python",
   "name": "python",
   "nbconvert_exporter": "python",
   "pygments_lexer": "ipython3",
   "version": "3.6.2"
  }
 },
 "nbformat": 4,
 "nbformat_minor": 2
}
